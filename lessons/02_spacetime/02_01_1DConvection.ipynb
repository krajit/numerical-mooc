{
 "cells": [
  {
   "cell_type": "markdown",
   "metadata": {},
   "source": [
    "###### Content under Creative Commons Attribution license CC-BY 4.0, code under MIT license (c)2014 L.A. Barba, G.F. Forsyth, C.D. Cooper. Based on [CFD Python](https://github.com/barbagroup/CFDPython), (c)2013 L.A. Barba, also under CC-BY."
   ]
  },
  {
   "cell_type": "markdown",
   "metadata": {},
   "source": [
    "# Space & Time"
   ]
  },
  {
   "cell_type": "markdown",
   "metadata": {},
   "source": [
    "## Introduction to numerical solution of PDEs"
   ]
  },
  {
   "cell_type": "markdown",
   "metadata": {},
   "source": [
    "Welcome to *Space and Time: Introduction to finite-difference solutions of PDEs*, the second module of [\"Practical Numerical Methods with Python\"](http://openedx.seas.gwu.edu/courses/GW/MAE6286/2014_fall/about). \n",
    "\n",
    "In the first module, we looked into numerical integration methods for the solution of ordinary differential equations (ODEs), using the phugoid model of glider flight as a motivation. In this module, we will study the numerical solution of *partial differential equations (PDEs)*, where the unknown is a multi-variate function. The problem could depend on time, $t$, and one spatial dimension $x$ (or more), which means we need to build a discretization grid with each independent variable.\n",
    "\n",
    "We will start our discussion of numerical PDEs with 1-D linear and non-linear convection equations, the 1-D diffusion equation, and 1-D Burgers' equation. We hope you will enjoy them!"
   ]
  },
  {
   "cell_type": "markdown",
   "metadata": {},
   "source": [
    "## 1D linear convection"
   ]
  },
  {
   "cell_type": "markdown",
   "metadata": {},
   "source": [
    "The *one-dimensional linear convection equation* is the simplest, most basic model that can be used to learn something about numerical solution of PDEs. It's surprising that this little equation can teach us so much! Here it is:\n",
    "\n",
    "\\begin{equation}\\frac{\\partial u}{\\partial t} + c \\frac{\\partial u}{\\partial x} = 0\\end{equation}\n",
    "\n",
    "The equation represents a *wave* propagating with speed $c$ in the $x$ direction, without change of shape. For that reason, it's sometimes called the *one-way wave equation* (sometimes also the *advection equation*).\n",
    "\n",
    "With an initial condition $u(x,0)=u_0(x)$, the equation has an exact solution given by:\n",
    "\n",
    "\\begin{equation}u(x,t)=u_0(x-ct). \n",
    "\\end{equation}\n",
    "\n",
    "Go on: check it. Take the time and space derivative and stick them into the equation to see that it holds!\n",
    "\n",
    "Look at the exact solution for a moment ... we know two things about it: \n",
    "\n",
    "1. its shape does not change, being always the same as the initial wave, $u_0$, only shifted in the $x$-direction; and \n",
    "2. it's constant along so-called **characteristic curves**, $x-ct=$constant. This means that for any point in space and time, you can move back along the characteristic curve to $t=0$ to know the value of the solution.\n"
   ]
  },
  {
   "cell_type": "markdown",
   "metadata": {},
   "source": [
    "![characteristics](figures/characteristics.png)\n",
    "#### Characteristic curves for positive wave speed."
   ]
  },
  {
   "cell_type": "markdown",
   "metadata": {},
   "source": [
    "Why do we call the equations *linear*? PDEs can be either linear or non-linear. In a linear equation, the unknown function $u$ and its derivatives appear only in linear terms, in other words, there are no products, powers, or transcendental functions applied on them. \n",
    "\n",
    "What is the most important feature of linear equations? Do you remember? In case you forgot: solutions can be superposed to generate new solutions that still satisfy the original equation. This is super useful!"
   ]
  },
  {
   "cell_type": "markdown",
   "metadata": {},
   "source": [
    "## Finite-differences"
   ]
  },
  {
   "cell_type": "markdown",
   "metadata": {},
   "source": [
    "In the previous lessons, we discretized time derivatives; now we have derivatives in both space *and* time, so we need to discretize with respect to *both* these variables. \n",
    "\n",
    "Imagine a *space-time* plot, where the coordinates in the vertical direction represent advancing in time—for example, from $t^n$ to $t^{n+1}$—and the coordinates in the horizontal direction move in space: consecutive points are $x_{i-1}$, $x_i$, and $x_{i+1}$.  This creates a grid where a point has both a temporal and spatial index. Here is a graphical representation of the space-time grid:\n",
    "\n",
    "\n",
    "\\begin{matrix}\n",
    "t^{n+1} & \\rightarrow & \\bullet  && \\bullet  && \\bullet  \\\\\n",
    "t^n & \\rightarrow & \\bullet  && \\bullet  && \\bullet  \\\\\n",
    "& &  x_{i-1} && x_i && x_{i+1}\n",
    "\\end{matrix}\n",
    "\n",
    "For the numerical solution of $u(x,t)$, we'll use subscripts to denote the spatial position, like $u_i$, and superscripts to denote the temporal instant, like $u^n$.  We would then label the solution at the top-middle point in the grid above as follows:\n",
    "$u^{n+1}_{i}$.\n",
    " \n",
    "\n",
    "Each grid point below has an index $i$, corresponding to the spatial position and increasing to the right, and an index $n$, corresponding to the time instant and increasing upwards.  A small grid segment would have the following values of the numerical solution at each point:\n",
    "\n",
    "\n",
    "\\begin{matrix}\n",
    "& &\\bullet & & \\bullet & &  \\bullet \\\\\n",
    "& &u^{n+1}_{i-1} & & u^{n+1}_i & & u^{n+1}_{i+1} \\\\\n",
    "& &\\bullet & & \\bullet & &  \\bullet \\\\\n",
    "& &u^n_{i-1} & & u^n_i & & u^n_{i+1} \\\\\n",
    "& &\\bullet & & \\bullet & &  \\bullet \\\\\n",
    "& &u^{n-1}_{i-1} & & u^{n-1}_i & & u^{n-1}_{i+1} \\\\\n",
    "\\end{matrix}\n",
    "\n",
    "Another way to explain our discretization grid is to say that it is built with constant steps in time and space, $\\Delta t$ and $\\Delta x$, as follows:\n",
    "\n",
    "\\begin{eqnarray}\n",
    "x_i &=& i\\, \\Delta x \\quad \\text{and} \\quad t^n= n\\, \\Delta t \\nonumber \\\\\n",
    "u_i^n &=& u(i\\, \\Delta x, n\\, \\Delta t)\n",
    "\\end{eqnarray}\n"
   ]
  },
  {
   "cell_type": "markdown",
   "metadata": {},
   "source": [
    "### Discretizing our model equation"
   ]
  },
  {
   "cell_type": "markdown",
   "metadata": {},
   "source": [
    "Let's see how to discretize the 1-D linear convection equation in both space and time.  By definition, the partial derivative with respect to time changes only with time and not with space; its discretized form changes only the $n$ indices.  Similarly, the partial derivative with respect to $x$ changes with space not time, and only the $i$ indices are affected.  \n",
    "\n",
    "We'll discretize the spatial coordinate $x$ into points indexed from $i=0$ to $N$, and then step in discrete time intervals of size $\\Delta t$.\n",
    "\n",
    "From the definition of a derivative (and simply removing the limit), we know that for $\\Delta x$ sufficiently small:\n",
    "\n",
    "\\begin{equation}\\frac{\\partial u}{\\partial x}\\approx \\frac{u(x+\\Delta x)-u(x)}{\\Delta x}\\end{equation}\n",
    "\n",
    "This formula could be applied at any point $x_i$. But note that it's not the only way that we can estimate the derivative. The geometrical interpretation of the first derivative $\\partial u/ \\partial x$ at any point is that it represents the slope of the tangent to the curve $u(x)$. In the sketch below, we show a slope line at $x_i$ and mark it as \"exact.\" If the formula written above is applied at $x_i$, it approximates the derivative using the next spatial grid point: it is then called a _forward difference_ formula. \n",
    "\n",
    "But as shown in the sketch below, we could also estimate the spatial derivative using the point behind $x_i$, in which case it is called a _backward difference_. We could even use the two points on each side of $x_i$, and obtain what's called a _central difference_ (but in that case the denominator would be $2\\Delta x$).\n"
   ]
  },
  {
   "cell_type": "markdown",
   "metadata": {},
   "source": [
    "![FDapproxiamtions](figures/FDapproxiamtions.png)\n",
    "#### Three finite-difference approximations at $x_i$."
   ]
  },
  {
   "cell_type": "markdown",
   "metadata": {},
   "source": [
    "We have three possible ways to represent a discrete form of $\\partial u/ \\partial x$:\n",
    "\n",
    "* Forward difference: uses $x_i$ and $x_i + \\Delta x$,\n",
    "* Backward difference: uses $x_i$ and $x_i- \\Delta x$,\n",
    "* Central difference: uses two points on either side of $x_i$.\n",
    "\n",
    "The sketch above also suggests that some finite-difference formulas might be better than others: it looks like the *central difference* approximation is closer to the slope of the \"exact\" derivative. Curious if this is just an effect of our exaggerated picture? We'll show you later how to make this observation rigorous!\n",
    "\n",
    "The three formulas are:\n",
    "\n",
    "\\begin{eqnarray}\n",
    "\\frac{\\partial u}{\\partial x} & \\approx & \\frac{u(x_{i+1})-u(x_i)}{\\Delta x} \\quad\\text{Forward}\\\\\n",
    "\\frac{\\partial u}{\\partial x} & \\approx & \\frac{u(x_i)-u(x_{i-1})}{\\Delta x} \\quad\\text{Backward}\\\\\n",
    "\\frac{\\partial u}{\\partial x} & \\approx & \\frac{u(x_{i+1})-u(x_{i-1})}{2\\Delta x} \\quad\\text{Central}\n",
    "\\end{eqnarray}\n",
    "\n",
    "\n",
    "Euler's method is equivalent to using a forward-difference scheme for the time derivative. Let's stick with that, and choose the backward-difference scheme for the space derivative.  Our discrete equation is then:\n",
    "\n",
    "\\begin{equation}\\frac{u_i^{n+1}-u_i^n}{\\Delta t} + c \\frac{u_i^n - u_{i-1}^n}{\\Delta x} = 0, \\end{equation}\n",
    "\n",
    "where $n$ and $n+1$ are two consecutive steps in time, while $i-1$ and $i$ are two neighboring points of the discretized $x$ coordinate. With given initial conditions, the only unknown in this discretization is $u_i^{n+1}$.  We solve for this unknown to get an equation that lets us step in time, as follows:\n",
    "\n",
    "\\begin{equation}u_i^{n+1} = u_i^n - c \\frac{\\Delta t}{\\Delta x}(u_i^n-u_{i-1}^n)\\end{equation}\n",
    "\n",
    "We like to make drawings of a grid segment, showing the grid points that influence our numerical solution. This is called a **stencil**. Below is the stencil for solving our model equation with the finite-difference formula we wrote above."
   ]
  },
  {
   "cell_type": "markdown",
   "metadata": {},
   "source": [
    "![FTBS_stencil](figures/FTBS_stencil.png)\n",
    "#### Stencil for the \"forward-time/backward-space\" scheme."
   ]
  },
  {
   "cell_type": "markdown",
   "metadata": {},
   "source": [
    "## And compute!"
   ]
  },
  {
   "cell_type": "markdown",
   "metadata": {},
   "source": [
    "Alright. Let's get a little Python on the road. First: we need to load our array and plotting libraries, as usual. And if you noticed in the [*Bonus!* notebook for Module 1](http://nbviewer.ipython.org/github/numerical-mooc/numerical-mooc/blob/master/lessons/01_phugoid/01_04_Second_Order_Methods.ipynb), we taught you a neat trick to set some global plotting parameters with the `rcParams` module. We like to do that."
   ]
  },
  {
   "cell_type": "code",
   "execution_count": 1,
   "metadata": {
    "collapsed": false
   },
   "outputs": [],
   "source": [
    "from __future__ import division\n",
    "import numpy                       \n",
    "from matplotlib import pyplot                 \n",
    "%matplotlib inline\n",
    "from matplotlib import rcParams\n",
    "rcParams['font.family'] = 'serif'\n",
    "rcParams['font.size'] = 16"
   ]
  },
  {
   "cell_type": "markdown",
   "metadata": {},
   "source": [
    "As a first exercise, we'll solve the 1D linear convection equation with a *square wave* initial condition, defined as follows:\n",
    "\n",
    "\\begin{equation}\n",
    "u(x,0)=\\begin{cases}2 & \\text{where } 0.5\\leq x \\leq 1,\\\\\n",
    "1 & \\text{everywhere else in } (0, 2)\n",
    "\\end{cases}\n",
    "\\end{equation}\n",
    "\n",
    "We also need a boundary condition on $x$: let $u=1$ at $x=0$. Our spatial domain for the numerical solution will only cover the range $x\\in (0, 2)$."
   ]
  },
  {
   "cell_type": "markdown",
   "metadata": {},
   "source": [
    "![squarewave](figures/squarewave.png)\n",
    "#### Square wave initial condition."
   ]
  },
  {
   "cell_type": "markdown",
   "metadata": {},
   "source": [
    "Now let's define a few variables; we want to make an evenly spaced grid of points within our spatial domain. In the code below, we define a variable called `nx` that will be the number of spatial grid points, and a variable `dx` that will be the distance between any pair of adjacent grid points. We also can define a step in time, `dt`, a number of steps, `nt`, and a value for the wave speed: we like to keep things simple and make $c=1$.  "
   ]
  },
  {
   "cell_type": "code",
   "execution_count": 2,
   "metadata": {
    "collapsed": false
   },
   "outputs": [],
   "source": [
    "nx = 41  # try changing this number from 41 to 81 and Run All ... what happens?\n",
    "dx = 2/(nx-1)\n",
    "nt = 25    \n",
    "dt = .02  \n",
    "c = 1      #assume wavespeed of c = 1\n",
    "x = numpy.linspace(0,2,nx)"
   ]
  },
  {
   "cell_type": "markdown",
   "metadata": {},
   "source": [
    "We also need to set up our initial conditions. Here, we use the NumPy function `ones()` defining an array which is `nx` elements long with every value equal to $1$. How useful! We then *change a slice* of that array to the value $u=2$, to get the square wave, and we print out the initial array just to admire it. But which values should we change?  The problem states that we need to change the indices of `u` such that the square wave begins at $x = 0.5$ and ends at $x = 1$.\n",
    "\n",
    "We can use the `numpy.where` function to return a list of indices where the vector $x$ meets (or doesn't meet) some condition. "
   ]
  },
  {
   "cell_type": "code",
   "execution_count": 3,
   "metadata": {
    "collapsed": false
   },
   "outputs": [
    {
     "name": "stdout",
     "output_type": "stream",
     "text": [
      "(array([10, 11, 12, 13, 14, 15, 16, 17, 18, 19, 20, 21, 22, 23, 24, 25, 26,\n",
      "       27, 28, 29, 30, 31, 32, 33, 34, 35, 36, 37, 38, 39, 40]),)\n",
      "(array([ 0,  1,  2,  3,  4,  5,  6,  7,  8,  9, 10, 11, 12, 13, 14, 15, 16,\n",
      "       17, 18, 19, 20]),)\n"
     ]
    }
   ],
   "source": [
    "u = numpy.ones(nx)      #numpy function ones()\n",
    "lbound = numpy.where(x >= 0.5)\n",
    "ubound = numpy.where(x <= 1)\n",
    "\n",
    "print(lbound)\n",
    "print(ubound)"
   ]
  },
  {
   "cell_type": "markdown",
   "metadata": {},
   "source": [
    "That leaves us with two vectors.  `lbound`, which has the indices for $x \\geq .5$ and 'ubound', which has the indices for $x \\leq 1$.  To combine these two, we can use an intersection, with `numpy.intersect1d`.  "
   ]
  },
  {
   "cell_type": "code",
   "execution_count": 4,
   "metadata": {
    "collapsed": false
   },
   "outputs": [
    {
     "name": "stdout",
     "output_type": "stream",
     "text": [
      "[ 1.  1.  1.  1.  1.  1.  1.  1.  1.  1.  2.  2.  2.  2.  2.  2.  2.  2.\n",
      "  2.  2.  2.  1.  1.  1.  1.  1.  1.  1.  1.  1.  1.  1.  1.  1.  1.  1.\n",
      "  1.  1.  1.  1.  1.]\n"
     ]
    }
   ],
   "source": [
    "bounds = numpy.intersect1d(lbound, ubound)\n",
    "u[bounds]=2  #setting u = 2 between 0.5 and 1 as per our I.C.s\n",
    "print(u)"
   ]
  },
  {
   "cell_type": "markdown",
   "metadata": {},
   "source": [
    "Remember that Python can also combine commands, we could have instead written\n",
    "```Python\n",
    "u[numpy.intersect1d(numpy.where(x >= 0.5), numpy.where(x <= 1))] = 2\n",
    "```\n",
    "\n",
    "but that can be a little hard to read."
   ]
  },
  {
   "cell_type": "markdown",
   "metadata": {},
   "source": [
    "Now let's take a look at those initial conditions we've built with a handy plot."
   ]
  },
  {
   "cell_type": "code",
   "execution_count": 5,
   "metadata": {
    "collapsed": false
   },
   "outputs": [
    {
     "data": {
      "image/png": "[encoded data removed]",
      "text/plain": [
       "<matplotlib.figure.Figure at 0x7f8316bc0d90>"
      ]
     },
     "metadata": {},
     "output_type": "display_data"
    }
   ],
   "source": [
    "pyplot.plot(x, u, color='#003366', ls='--', lw=3)\n",
    "pyplot.ylim(0,2.5);"
   ]
  },
  {
   "cell_type": "code",
   "execution_count": null,
   "metadata": {
    "collapsed": true
   },
   "outputs": [],
   "source": []
  },
  {
   "cell_type": "markdown",
   "metadata": {},
   "source": [
    "It does look pretty close to what we expected. But it looks like the sides of the square wave are not perfectly vertical. Is that right? Think for a bit."
   ]
  },
  {
   "cell_type": "markdown",
   "metadata": {},
   "source": [
    "Now it's time to write some code for the discrete form of the convection equation using our chosen finite-difference scheme. \n",
    "\n",
    "For every element of our array `u`, we need to perform the operation: \n",
    "\n",
    "$$u_i^{n+1} = u_i^n - c \\frac{\\Delta t}{\\Delta x}(u_i^n-u_{i-1}^n)$$\n",
    "\n",
    "We'll store the result in a new (temporary) array `un`, which will be the solution $u$ for the next time-step.  We will repeat this operation for as many time-steps as we specify and then we can see how far the wave has traveled.  \n",
    "\n",
    "We first initialize the placeholder array `un` to hold the values we calculate for the $n+1$ timestep, using once again the NumPy function `ones()`.\n",
    "\n",
    "Then, we may think we have two iterative operations: one in space and one in time (we'll learn differently later), so we may start by nesting a spatial loop inside the time loop, as shown below. You see that the code for the finite-difference scheme is a direct expression of the discrete equation: "
   ]
  },
  {
   "cell_type": "markdown",
   "metadata": {},
   "source": [
    "### Still Version"
   ]
  },
  {
   "cell_type": "code",
   "execution_count": 11,
   "metadata": {
    "collapsed": false
   },
   "outputs": [],
   "source": [
    "for n in range(1,nt):  \n",
    "    un = u.copy() \n",
    "    for i in range(1,nx): \n",
    "    \n",
    "        u[i] = un[i]-c*dt/dx*(un[i]-un[i-1])"
   ]
  },
  {
   "cell_type": "markdown",
   "metadata": {},
   "source": [
    "**Note 1**—We stressed above that our physical problem needs a boundary condition at $x=0$. Here we do not need to impose it at every iteration because our discretization does not change the value of u[0]: it remains equal to one and our boundary condition is therefore satisfied during the whole computation!\n",
    "\n",
    "**Note 2**—We will learn later that the code as written above is quite inefficient, and there are better ways to write this, Python-style. But let's carry on.\n",
    "\n",
    "Now let's inspect our solution array after advancing in time with a line plot."
   ]
  },
  {
   "cell_type": "code",
   "execution_count": 13,
   "metadata": {
    "collapsed": false
   },
   "outputs": [
    {
     "data": {
      "image/png": "[encoded data removed]",
      "text/plain": [
       "<matplotlib.figure.Figure at 0x7ffadfd0c750>"
      ]
     },
     "metadata": {},
     "output_type": "display_data"
    }
   ],
   "source": [
    "pyplot.plot(x, u, color='#003366', ls='--', lw=3)\n",
    "pyplot.ylim(0,2.5);"
   ]
  },
  {
   "cell_type": "markdown",
   "metadata": {},
   "source": [
    "### Moving Wave"
   ]
  },
  {
   "cell_type": "code",
   "execution_count": 15,
   "metadata": {
    "collapsed": false
   },
   "outputs": [],
   "source": [
    "import matplotlib.pyplot as plt\n",
    "import time\n",
    "%matplotlib qt\n",
    " \n",
    "\n",
    "# reset initial u\n",
    "u = numpy.ones(nx)      #numpy function ones()\n",
    "lbound = numpy.where(x >= 0.5)\n",
    "ubound = numpy.where(x <= 1)\n",
    "bounds = numpy.intersect1d(lbound, ubound)\n",
    "u[bounds]=2  #setting u = 2 between 0.5 and 1 as per our I.C.s\n",
    "\n",
    "    \n",
    "plt.show()\n",
    "\n",
    "axes = plt.gca()\n",
    "\n",
    "axes.set_xlim(0, 2)\n",
    "axes.set_ylim(-1, +3)\n",
    "line, = axes.plot(x, u, 'r-')\n",
    " \n",
    "\n",
    "for n in range(1,nt):  \n",
    "    un = u.copy()\n",
    "    for i in range(1,nx):    \n",
    "        u[i] = un[i]-c*dt/dx*(un[i]-un[i-1])\n",
    "        \n",
    "    line.set_ydata(u)\n",
    "    plt.draw()\n",
    "    plt.pause(1e-17)\n",
    "    time.sleep(0.1)\n",
    "    \n",
    "# add this if you don't want the window to disappear at the end\n",
    "plt.show()\n"
   ]
  },
  {
   "cell_type": "markdown",
   "metadata": {},
   "source": [
    "That's funny. Our square wave has definitely moved to the right, but it's no longer in the shape of a top-hat.  **What's going on?**"
   ]
  },
  {
   "cell_type": "markdown",
   "metadata": {},
   "source": [
    "##### Dig deeper"
   ]
  },
  {
   "cell_type": "markdown",
   "metadata": {},
   "source": [
    "The solution differs from the expected square wave because the discretized equation is an approximation of the continuous differential equation that we want to solve. There are errors: we knew that. But the modified shape of the initial wave is something curious. Maybe it can be improved by making the grid spacing finer. Why don't you try it? Does it help?"
   ]
  },
  {
   "cell_type": "markdown",
   "metadata": {},
   "source": [
    "## Spatial truncation error"
   ]
  },
  {
   "cell_type": "markdown",
   "metadata": {},
   "source": [
    "Recall the finite-difference approximation we are using for the spatial derivative:\n",
    "\n",
    "\\begin{equation}\\frac{\\partial u}{\\partial x}\\approx \\frac{u(x+\\Delta x)-u(x)}{\\Delta x}\\end{equation}\n",
    "\n",
    "We obtain it by using the definition of the derivative at a point, and simply removing the limit, in the assumption that $\\Delta x$ is very small. But we already learned with Euler's method that this introduces an error, called the *truncation error*.\n",
    "\n",
    "Using a Taylor series expansion for the spatial terms now, we see that the backward-difference scheme produces a first-order method, in space."
   ]
  },
  {
   "cell_type": "markdown",
   "metadata": {},
   "source": [
    "\\begin{equation}\n",
    "\\frac{\\partial u}{\\partial x}(x_i) = \\frac{u(x_i)-u(x_{i-1})}{\\Delta x} + \\frac{\\Delta x}{2} \\frac{\\partial^2 u}{\\partial x^2}(x_i) - \\frac{\\Delta x^2}{6} \\frac{\\partial^3 u}{\\partial x^3}(x_i)+ \\cdots\n",
    "\\end{equation}\n",
    "\n",
    "The dominant term that is neglected in the finite-difference approximation is of $\\mathcal{O}(\\Delta x)$. We also see that the approximation *converges* to the exact derivative as $\\Delta x \\rightarrow 0$. That's good news!\n",
    "\n",
    "In summary, the chosen \"forward-time/backward space\" difference scheme is first-order in both space and time: the truncation errors are $\\mathcal{O}(\\Delta t, \\Delta x)$. We'll come back to this!"
   ]
  },
  {
   "cell_type": "markdown",
   "metadata": {},
   "source": [
    "## Non-linear convection"
   ]
  },
  {
   "cell_type": "markdown",
   "metadata": {},
   "source": [
    "Let's move on to the non-linear convection equation, using the same methods as before. The 1-D convection equation is:\n",
    "\n",
    "\\begin{equation}\\frac{\\partial u}{\\partial t} + u \\frac{\\partial u}{\\partial x} = 0\\end{equation}\n",
    "\n",
    "The only difference with the linear case is that we've replaced the constant wave speed $c$ by the variable speed $u$. The equation is non-linear because now we have a product of the solution and one of its derivatives: the product $u\\,\\partial u/\\partial x$. This changes everything!\n",
    "\n",
    "We're going to use the same discretization as for linear convection: forward difference in time and backward difference in space. Here is the discretized equation:\n",
    "\n",
    "\\begin{equation}\\frac{u_i^{n+1}-u_i^n}{\\Delta t} + u_i^n \\frac{u_i^n-u_{i-1}^n}{\\Delta x} = 0\\end{equation}\n",
    "\n",
    "Solving for the only unknown term, $u_i^{n+1}$, gives an equation that can be used to advance in time:\n",
    "\n",
    "\\begin{equation}u_i^{n+1} = u_i^n - u_i^n \\frac{\\Delta t}{\\Delta x} (u_i^n - u_{i-1}^n)\\end{equation}\n",
    "\n",
    "There is very little that needs to change from the code written so far. In fact, we'll even use the same square-wave initial condition. But let's re-initialize the variable `u` with the initial values, and re-enter the numerical parameters here, for convenience (we no longer need $c$, though)."
   ]
  },
  {
   "cell_type": "code",
   "execution_count": 14,
   "metadata": {
    "collapsed": false
   },
   "outputs": [],
   "source": [
    "##problem parameters\n",
    "nx = 41\n",
    "dx = 2/(nx-1)\n",
    "nt = 10    \n",
    "dt = .02  \n",
    "\n",
    "##initial conditions\n",
    "u = numpy.ones(nx)      \n",
    "u[numpy.intersect1d(lbound, ubound)]=2  \n",
    "\n"
   ]
  },
  {
   "cell_type": "markdown",
   "metadata": {},
   "source": [
    " How does it look?"
   ]
  },
  {
   "cell_type": "code",
   "execution_count": 15,
   "metadata": {
    "collapsed": false
   },
   "outputs": [
    {
     "data": {
      "image/png": "[encoded data removed]",
      "text/plain": [
       "<matplotlib.figure.Figure at 0x7ffad9f00150>"
      ]
     },
     "metadata": {},
     "output_type": "display_data"
    }
   ],
   "source": [
    "pyplot.plot(x, u, color='#003366', ls='--', lw=3)\n",
    "pyplot.ylim(0,2.5);"
   ]
  },
  {
   "cell_type": "markdown",
   "metadata": {},
   "source": [
    "Changing just one line of code in the solution of linear convection, we are able to now get the non-linear solution: the line that corresponds to the discrete equation now has `un[i]` in the place where before we just had `c`. So you could write something like:\n",
    "```Python\n",
    "for n in range(1,nt):  \n",
    "  un = u.copy() \n",
    "  for i in range(1,nx): \n",
    "    u[i] = un[i]-un[i]*dt/dx*(un[i]-un[i-1]) \n",
    "```\n",
    "\n",
    "We're going to be more clever than that and use NumPy to update all values of the spatial grid in one fell swoop. We don't really need to write a line of code that gets executed *for each* value of $u$ on the spatial grid. Python can update them all at once! Study the code below, and compare it with the one above. Here is a helpful sketch, to illustrate the array operation—also called a \"vectorized\" operation—for $u_i-u_{i-1}$."
   ]
  },
  {
   "cell_type": "markdown",
   "metadata": {},
   "source": [
    "![vectorizedstencil](figures/vectorizedstencil.png)\n",
    "\n",
    "<br>\n",
    "#### Sketch to explain vectorized stencil operation.  Adapted from [\"Indices point between elements\"](https://blog.nelhage.com/2015/08/indices-point-between-elements/) by Nelson Elhage.  "
   ]
  },
  {
   "cell_type": "code",
   "execution_count": 16,
   "metadata": {
    "collapsed": false
   },
   "outputs": [],
   "source": [
    "for n in range(1, nt):  \n",
    "    un = u.copy() \n",
    "    u[1:] = un[1:]-un[1:]*dt/dx*(un[1:]-un[0:-1])"
   ]
  },
  {
   "cell_type": "code",
   "execution_count": 17,
   "metadata": {
    "collapsed": false
   },
   "outputs": [
    {
     "data": {
      "image/png": "[encoded data removed]",
      "text/plain": [
       "<matplotlib.figure.Figure at 0x7ffad9ec3e50>"
      ]
     },
     "metadata": {},
     "output_type": "display_data"
    }
   ],
   "source": [
    "pyplot.plot(x, u, color='#003366', ls='--', lw=3)\n",
    "pyplot.ylim(0,2.5);"
   ]
  },
  {
   "cell_type": "markdown",
   "metadata": {},
   "source": [
    "Hmm. That's quite interesting: like in the linear case, we see that we have lost the sharp sides of our initial square wave, but there's more. Now, the wave has also lost symmetry! It seems to be lagging on the rear side, while the front of the wave is steepening. Is this another form of numerical error, do you ask? No! It's physics!"
   ]
  },
  {
   "cell_type": "markdown",
   "metadata": {},
   "source": [
    "##### Dig deeper"
   ]
  },
  {
   "cell_type": "markdown",
   "metadata": {},
   "source": [
    "Think about the effect of having replaced the constant wave speed $c$ by the variable speed given by the solution $u$. It means that different parts of the wave move at different speeds. Make a sketch of an initial wave and think about where the speed is higher and where it is lower ..."
   ]
  },
  {
   "cell_type": "markdown",
   "metadata": {},
   "source": [
    "## References\n",
    "\n",
    "* Elhage, Nelson (2015), [\"Indices point between elements\"](https://blog.nelhage.com/2015/08/indices-point-between-elements/)"
   ]
  },
  {
   "cell_type": "markdown",
   "metadata": {},
   "source": [
    "---\n",
    "\n",
    "###### The cell below loads the style of the notebook."
   ]
  },
  {
   "cell_type": "code",
   "execution_count": 18,
   "metadata": {
    "collapsed": false
   },
   "outputs": [
    {
     "data": {
      "text/html": [
       "<link href='http://fonts.googleapis.com/css?family=Alegreya+Sans:100,300,400,500,700,800,900,100italic,300italic,400italic,500italic,700italic,800italic,900italic' rel='stylesheet' type='text/css'>\n",
       "<link href='http://fonts.googleapis.com/css?family=Arvo:400,700,400italic' rel='stylesheet' type='text/css'>\n",
       "<link href='http://fonts.googleapis.com/css?family=PT+Mono' rel='stylesheet' type='text/css'>\n",
       "<link href='http://fonts.googleapis.com/css?family=Shadows+Into+Light' rel='stylesheet' type='text/css'>\n",
       "<link href='http://fonts.googleapis.com/css?family=Nixie+One' rel='stylesheet' type='text/css'>\n",
       "<link href='https://fonts.googleapis.com/css?family=Source+Code+Pro' rel='stylesheet' type='text/css'>\n",
       "<style>\n",
       "\n",
       "@font-face {\n",
       "    font-family: \"Computer Modern\";\n",
       "    src: url('http://mirrors.ctan.org/fonts/cm-unicode/fonts/otf/cmunss.otf');\n",
       "}\n",
       "\n",
       "#notebook_panel { /* main background */\n",
       "    background: rgb(245,245,245);\n",
       "}\n",
       "\n",
       "div.cell { /* set cell width */\n",
       "    width: 750px;\n",
       "}\n",
       "\n",
       "div #notebook { /* centre the content */\n",
       "    background: #fff; /* white background for content */\n",
       "    width: 1000px;\n",
       "    margin: auto;\n",
       "    padding-left: 0em;\n",
       "}\n",
       "\n",
       "#notebook li { /* More space between bullet points */\n",
       "    margin-top:0.8em;\n",
       "}\n",
       "\n",
       "/* draw border around running cells */\n",
       "div.cell.border-box-sizing.code_cell.running { \n",
       "    border: 1px solid #111;\n",
       "}\n",
       "\n",
       "/* Put a solid color box around each cell and its output, visually linking them*/\n",
       "div.cell.code_cell {\n",
       "    background-color: rgb(256,256,256); \n",
       "    border-radius: 0px; \n",
       "    padding: 0.5em;\n",
       "    margin-left:1em;\n",
       "    margin-top: 1em;\n",
       "}\n",
       "\n",
       "div.text_cell_render{\n",
       "    font-family: 'Alegreya Sans' sans-serif;\n",
       "    line-height: 140%;\n",
       "    font-size: 125%;\n",
       "    font-weight: 400;\n",
       "    width:600px;\n",
       "    margin-left:auto;\n",
       "    margin-right:auto;\n",
       "}\n",
       "\n",
       "\n",
       "/* Formatting for header cells */\n",
       ".text_cell_render h1 {\n",
       "    font-family: 'Nixie One', serif;\n",
       "    font-style:regular;\n",
       "    font-weight: 400;    \n",
       "    font-size: 45pt;\n",
       "    line-height: 100%;\n",
       "    color: rgb(0,51,102);\n",
       "    margin-bottom: 0.5em;\n",
       "    margin-top: 0.5em;\n",
       "    display: block;\n",
       "}\n",
       "\n",
       ".text_cell_render h2 {\n",
       "    font-family: 'Nixie One', serif;\n",
       "    font-weight: 400;\n",
       "    font-size: 30pt;\n",
       "    line-height: 100%;\n",
       "    color: rgb(0,51,102);\n",
       "    margin-bottom: 0.1em;\n",
       "    margin-top: 0.3em;\n",
       "    display: block;\n",
       "}\t\n",
       "\n",
       ".text_cell_render h3 {\n",
       "    font-family: 'Nixie One', serif;\n",
       "    margin-top:16px;\n",
       "    font-size: 22pt;\n",
       "    font-weight: 600;\n",
       "    margin-bottom: 3px;\n",
       "    font-style: regular;\n",
       "    color: rgb(102,102,0);\n",
       "}\n",
       "\n",
       ".text_cell_render h4 {    /*Use this for captions*/\n",
       "    font-family: 'Nixie One', serif;\n",
       "    font-size: 14pt;\n",
       "    text-align: center;\n",
       "    margin-top: 0em;\n",
       "    margin-bottom: 2em;\n",
       "    font-style: regular;\n",
       "}\n",
       "\n",
       ".text_cell_render h5 {  /*Use this for small titles*/\n",
       "    font-family: 'Nixie One', sans-serif;\n",
       "    font-weight: 400;\n",
       "    font-size: 16pt;\n",
       "    color: rgb(163,0,0);\n",
       "    font-style: italic;\n",
       "    margin-bottom: .1em;\n",
       "    margin-top: 0.8em;\n",
       "    display: block;\n",
       "}\n",
       "\n",
       ".text_cell_render h6 { /*use this for copyright note*/\n",
       "    font-family: 'PT Mono', sans-serif;\n",
       "    font-weight: 300;\n",
       "    font-size: 9pt;\n",
       "    line-height: 100%;\n",
       "    color: grey;\n",
       "    margin-bottom: 1px;\n",
       "    margin-top: 1px;\n",
       "}\n",
       "\n",
       ".CodeMirror{\n",
       "    font-family: \"Source Code Pro\";\n",
       "    font-size: 90%;\n",
       "}\n",
       "\n",
       ".alert-box {\n",
       "    padding:10px 10px 10px 36px;\n",
       "    margin:5px;\n",
       "}\n",
       "\n",
       ".success {\n",
       "    color:#666600;\n",
       "    background:rgb(240,242,229);\n",
       "}\n",
       "</style>\n",
       "<script>\n",
       "    MathJax.Hub.Config({\n",
       "                        TeX: {\n",
       "                           extensions: [\"AMSmath.js\"],\n",
       "                           equationNumbers: { autoNumber: \"AMS\", useLabelIds: true}\n",
       "                           },\n",
       "                tex2jax: {\n",
       "                    inlineMath: [ ['$','$'], [\"\\\\(\",\"\\\\)\"] ],\n",
       "                    displayMath: [ ['$$','$$'], [\"\\\\[\",\"\\\\]\"] ]\n",
       "                },\n",
       "                displayAlign: 'center', // Change this to 'center' to center equations.\n",
       "                \"HTML-CSS\": {\n",
       "                    styles: {'.MathJax_Display': {\"margin\": 4}}\n",
       "                }\n",
       "        });\n",
       "</script>\n"
      ],
      "text/plain": [
       "<IPython.core.display.HTML object>"
      ]
     },
     "execution_count": 18,
     "metadata": {},
     "output_type": "execute_result"
    }
   ],
   "source": [
    "from IPython.core.display import HTML\n",
    "css_file = '../../styles/numericalmoocstyle.css'\n",
    "HTML(open(css_file, \"r\").read())"
   ]
  }
 ],
 "metadata": {
  "kernelspec": {
   "display_name": "Python 2",
   "language": "python",
   "name": "python2"
  },
  "language_info": {
   "codemirror_mode": {
    "name": "ipython",
    "version": 2
   },
   "file_extension": ".py",
   "mimetype": "text/x-python",
   "name": "python",
   "nbconvert_exporter": "python",
   "pygments_lexer": "ipython2",
   "version": "2.7.13"
  }
 },
 "nbformat": 4,
 "nbformat_minor": 0
}
